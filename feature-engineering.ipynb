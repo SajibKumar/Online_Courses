{
 "cells": [
  {
   "cell_type": "markdown",
   "id": "3599d2e6",
   "metadata": {
    "papermill": {
     "duration": 0.003117,
     "end_time": "2024-07-29T08:12:05.685507",
     "exception": false,
     "start_time": "2024-07-29T08:12:05.682390",
     "status": "completed"
    },
    "tags": []
   },
   "source": [
    "# What is fature Engineering?\n",
    "*Feature engineering preprocesses raw data into a machine-readable format. It optimizes ML model performance by transforming and selecting relevant features.*\n",
    "\n",
    "- Introduction to feature engineering\n",
    "- Process of feature engineering\n",
    "- Feature engineering techniques\n",
    "- Correlation matrix\n",
    "- Model performance: Underfitting and Overfitting\n",
    "- Demo: Diabetes detection using Machine Learning"
   ]
  },
  {
   "cell_type": "code",
   "execution_count": null,
   "id": "cbe5a479",
   "metadata": {
    "papermill": {
     "duration": 0.002336,
     "end_time": "2024-07-29T08:12:05.690701",
     "exception": false,
     "start_time": "2024-07-29T08:12:05.688365",
     "status": "completed"
    },
    "tags": []
   },
   "outputs": [],
   "source": []
  },
  {
   "cell_type": "markdown",
   "id": "ababf6a7",
   "metadata": {
    "papermill": {
     "duration": 0.002268,
     "end_time": "2024-07-29T08:12:05.695639",
     "exception": false,
     "start_time": "2024-07-29T08:12:05.693371",
     "status": "completed"
    },
    "tags": []
   },
   "source": []
  },
  {
   "cell_type": "markdown",
   "id": "d546fcfd",
   "metadata": {
    "papermill": {
     "duration": 0.002371,
     "end_time": "2024-07-29T08:12:05.700513",
     "exception": false,
     "start_time": "2024-07-29T08:12:05.698142",
     "status": "completed"
    },
    "tags": []
   },
   "source": []
  },
  {
   "cell_type": "code",
   "execution_count": 1,
   "id": "61451b09",
   "metadata": {
    "_cell_guid": "b1076dfc-b9ad-4769-8c92-a6c4dae69d19",
    "_uuid": "8f2839f25d086af736a60e9eeb907d3b93b6e0e5",
    "execution": {
     "iopub.execute_input": "2024-07-29T08:12:05.708609Z",
     "iopub.status.busy": "2024-07-29T08:12:05.707982Z",
     "iopub.status.idle": "2024-07-29T08:12:06.690066Z",
     "shell.execute_reply": "2024-07-29T08:12:06.688872Z"
    },
    "papermill": {
     "duration": 0.988827,
     "end_time": "2024-07-29T08:12:06.692839",
     "exception": false,
     "start_time": "2024-07-29T08:12:05.704012",
     "status": "completed"
    },
    "tags": []
   },
   "outputs": [],
   "source": [
    "# This Python 3 environment comes with many helpful analytics libraries installed\n",
    "# It is defined by the kaggle/python Docker image: https://github.com/kaggle/docker-python\n",
    "# For example, here's several helpful packages to load\n",
    "\n",
    "import numpy as np # linear algebra\n",
    "import pandas as pd # data processing, CSV file I/O (e.g. pd.read_csv)\n",
    "\n",
    "# Input data files are available in the read-only \"../input/\" directory\n",
    "# For example, running this (by clicking run or pressing Shift+Enter) will list all files under the input directory\n",
    "\n",
    "import os\n",
    "for dirname, _, filenames in os.walk('/kaggle/input'):\n",
    "    for filename in filenames:\n",
    "        print(os.path.join(dirname, filename))\n",
    "\n",
    "# You can write up to 20GB to the current directory (/kaggle/working/) that gets preserved as output when you create a version using \"Save & Run All\" \n",
    "# You can also write temporary files to /kaggle/temp/, but they won't be saved outside of the current session"
   ]
  },
  {
   "cell_type": "code",
   "execution_count": null,
   "id": "f8acd24f",
   "metadata": {
    "papermill": {
     "duration": 0.002517,
     "end_time": "2024-07-29T08:12:06.698238",
     "exception": false,
     "start_time": "2024-07-29T08:12:06.695721",
     "status": "completed"
    },
    "tags": []
   },
   "outputs": [],
   "source": []
  }
 ],
 "metadata": {
  "kaggle": {
   "accelerator": "none",
   "dataSources": [],
   "isGpuEnabled": false,
   "isInternetEnabled": true,
   "language": "python",
   "sourceType": "notebook"
  },
  "kernelspec": {
   "display_name": "Python 3",
   "language": "python",
   "name": "python3"
  },
  "language_info": {
   "codemirror_mode": {
    "name": "ipython",
    "version": 3
   },
   "file_extension": ".py",
   "mimetype": "text/x-python",
   "name": "python",
   "nbconvert_exporter": "python",
   "pygments_lexer": "ipython3",
   "version": "3.10.13"
  },
  "papermill": {
   "default_parameters": {},
   "duration": 4.624179,
   "end_time": "2024-07-29T08:12:07.223407",
   "environment_variables": {},
   "exception": null,
   "input_path": "__notebook__.ipynb",
   "output_path": "__notebook__.ipynb",
   "parameters": {},
   "start_time": "2024-07-29T08:12:02.599228",
   "version": "2.5.0"
  }
 },
 "nbformat": 4,
 "nbformat_minor": 5
}
